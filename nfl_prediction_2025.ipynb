{
  "nbformat": 4,
  "nbformat_minor": 0,
  "metadata": {
    "colab": {
      "provenance": [],
      "toc_visible": true,
      "authorship_tag": "ABX9TyP4S8bzmUgcvkVjApDiXHGg"
    },
    "kernelspec": {
      "name": "python3",
      "display_name": "Python 3"
    },
    "language_info": {
      "name": "python"
    }
  },
  "cells": [
    {
      "cell_type": "markdown",
      "source": [
        "# Predicción de resultado y marcador de LIX Super Bowl 2025"
      ],
      "metadata": {
        "id": "5s2vxGI8Mmue"
      }
    },
    {
      "cell_type": "markdown",
      "source": [
        "**Disclaimer**: *Este trabajo utiliza una base de datos de Kaggle llamada 2017-2024 scores.csv que subió el usuario Keoni Mortensen. Lo hice rápido, como una actividad adicional. Mi intención no es proveer un análisis exhaustivo, ni completamente escalable, sino poder hacer una educated guess de los resultados del Super Bowl 2025. Dicho esto, disfruten la lectura :)*"
      ],
      "metadata": {
        "id": "rSWsVHF9xVZL"
      }
    },
    {
      "cell_type": "markdown",
      "source": [
        "Me he propuesto no tomar mas de 25 min"
      ],
      "metadata": {
        "id": "oG63U-f6M-a6"
      }
    },
    {
      "cell_type": "markdown",
      "source": [
        "Okay, entonces son dos cosas:\n",
        "1. Ver como podría quedar un marcador de super bowl\n",
        "2. Ver quien podría ganar\n",
        "\n",
        "El primero se me hace más fácil. Basta con establecer un rango con el cual trabajar"
      ],
      "metadata": {
        "id": "rzIF8BPxNC1L"
      }
    },
    {
      "cell_type": "markdown",
      "source": [
        "# Exploracion"
      ],
      "metadata": {
        "id": "LcyezZ_ugSsJ"
      }
    },
    {
      "cell_type": "code",
      "execution_count": 59,
      "metadata": {
        "id": "w4Xp7cYpMiUp"
      },
      "outputs": [],
      "source": [
        "# librerias\n",
        "import pandas as pd\n",
        "import numpy as np\n",
        "import matplotlib.pyplot as plt\n",
        "import seaborn as sns"
      ]
    },
    {
      "cell_type": "code",
      "source": [
        "# cargar y explorar datos\n",
        "df = pd.read_csv('2017-2024_scores.csv')\n",
        "df.head()"
      ],
      "metadata": {
        "colab": {
          "base_uri": "https://localhost:8080/",
          "height": 313
        },
        "id": "9ddIXtbSNajO",
        "outputId": "984846db-8716-4d37-c738-8b5f07d78011"
      },
      "execution_count": 60,
      "outputs": [
        {
          "output_type": "execute_result",
          "data": {
            "text/plain": [
              "   Season              Week GameStatus  Day   Date   AwayTeam AwayRecord  \\\n",
              "0    2017      Hall Of Fame      FINAL  THU  08/03  Cardinals        0-1   \n",
              "1    2017  Preseason Week 1      FINAL  WED  08/09     Texans        0-1   \n",
              "2    2017  Preseason Week 1      FINAL  THU  08/10    Vikings        1-0   \n",
              "3    2017  Preseason Week 1      FINAL  THU  08/10    Falcons        0-1   \n",
              "4    2017  Preseason Week 1      FINAL  THU  08/10   Redskins        0-1   \n",
              "\n",
              "   AwayScore  AwayWin  HomeTeam HomeRecord  HomeScore  HomeWin  AwaySeeding  \\\n",
              "0       18.0      0.0   Cowboys        1-0       20.0      1.0          NaN   \n",
              "1       17.0      0.0  Panthers        1-0       27.0      1.0          NaN   \n",
              "2       17.0      1.0     Bills        0-1       10.0      0.0          NaN   \n",
              "3       20.0      0.0  Dolphins        1-0       23.0      1.0          NaN   \n",
              "4        3.0      0.0    Ravens        1-0       23.0      1.0          NaN   \n",
              "\n",
              "   HomeSeeding  PostSeason  \n",
              "0          NaN           0  \n",
              "1          NaN           0  \n",
              "2          NaN           0  \n",
              "3          NaN           0  \n",
              "4          NaN           0  "
            ],
            "text/html": [
              "\n",
              "  <div id=\"df-5dc57e6a-463d-4f95-9ff2-9efdba0754b6\" class=\"colab-df-container\">\n",
              "    <div>\n",
              "<style scoped>\n",
              "    .dataframe tbody tr th:only-of-type {\n",
              "        vertical-align: middle;\n",
              "    }\n",
              "\n",
              "    .dataframe tbody tr th {\n",
              "        vertical-align: top;\n",
              "    }\n",
              "\n",
              "    .dataframe thead th {\n",
              "        text-align: right;\n",
              "    }\n",
              "</style>\n",
              "<table border=\"1\" class=\"dataframe\">\n",
              "  <thead>\n",
              "    <tr style=\"text-align: right;\">\n",
              "      <th></th>\n",
              "      <th>Season</th>\n",
              "      <th>Week</th>\n",
              "      <th>GameStatus</th>\n",
              "      <th>Day</th>\n",
              "      <th>Date</th>\n",
              "      <th>AwayTeam</th>\n",
              "      <th>AwayRecord</th>\n",
              "      <th>AwayScore</th>\n",
              "      <th>AwayWin</th>\n",
              "      <th>HomeTeam</th>\n",
              "      <th>HomeRecord</th>\n",
              "      <th>HomeScore</th>\n",
              "      <th>HomeWin</th>\n",
              "      <th>AwaySeeding</th>\n",
              "      <th>HomeSeeding</th>\n",
              "      <th>PostSeason</th>\n",
              "    </tr>\n",
              "  </thead>\n",
              "  <tbody>\n",
              "    <tr>\n",
              "      <th>0</th>\n",
              "      <td>2017</td>\n",
              "      <td>Hall Of Fame</td>\n",
              "      <td>FINAL</td>\n",
              "      <td>THU</td>\n",
              "      <td>08/03</td>\n",
              "      <td>Cardinals</td>\n",
              "      <td>0-1</td>\n",
              "      <td>18.0</td>\n",
              "      <td>0.0</td>\n",
              "      <td>Cowboys</td>\n",
              "      <td>1-0</td>\n",
              "      <td>20.0</td>\n",
              "      <td>1.0</td>\n",
              "      <td>NaN</td>\n",
              "      <td>NaN</td>\n",
              "      <td>0</td>\n",
              "    </tr>\n",
              "    <tr>\n",
              "      <th>1</th>\n",
              "      <td>2017</td>\n",
              "      <td>Preseason Week 1</td>\n",
              "      <td>FINAL</td>\n",
              "      <td>WED</td>\n",
              "      <td>08/09</td>\n",
              "      <td>Texans</td>\n",
              "      <td>0-1</td>\n",
              "      <td>17.0</td>\n",
              "      <td>0.0</td>\n",
              "      <td>Panthers</td>\n",
              "      <td>1-0</td>\n",
              "      <td>27.0</td>\n",
              "      <td>1.0</td>\n",
              "      <td>NaN</td>\n",
              "      <td>NaN</td>\n",
              "      <td>0</td>\n",
              "    </tr>\n",
              "    <tr>\n",
              "      <th>2</th>\n",
              "      <td>2017</td>\n",
              "      <td>Preseason Week 1</td>\n",
              "      <td>FINAL</td>\n",
              "      <td>THU</td>\n",
              "      <td>08/10</td>\n",
              "      <td>Vikings</td>\n",
              "      <td>1-0</td>\n",
              "      <td>17.0</td>\n",
              "      <td>1.0</td>\n",
              "      <td>Bills</td>\n",
              "      <td>0-1</td>\n",
              "      <td>10.0</td>\n",
              "      <td>0.0</td>\n",
              "      <td>NaN</td>\n",
              "      <td>NaN</td>\n",
              "      <td>0</td>\n",
              "    </tr>\n",
              "    <tr>\n",
              "      <th>3</th>\n",
              "      <td>2017</td>\n",
              "      <td>Preseason Week 1</td>\n",
              "      <td>FINAL</td>\n",
              "      <td>THU</td>\n",
              "      <td>08/10</td>\n",
              "      <td>Falcons</td>\n",
              "      <td>0-1</td>\n",
              "      <td>20.0</td>\n",
              "      <td>0.0</td>\n",
              "      <td>Dolphins</td>\n",
              "      <td>1-0</td>\n",
              "      <td>23.0</td>\n",
              "      <td>1.0</td>\n",
              "      <td>NaN</td>\n",
              "      <td>NaN</td>\n",
              "      <td>0</td>\n",
              "    </tr>\n",
              "    <tr>\n",
              "      <th>4</th>\n",
              "      <td>2017</td>\n",
              "      <td>Preseason Week 1</td>\n",
              "      <td>FINAL</td>\n",
              "      <td>THU</td>\n",
              "      <td>08/10</td>\n",
              "      <td>Redskins</td>\n",
              "      <td>0-1</td>\n",
              "      <td>3.0</td>\n",
              "      <td>0.0</td>\n",
              "      <td>Ravens</td>\n",
              "      <td>1-0</td>\n",
              "      <td>23.0</td>\n",
              "      <td>1.0</td>\n",
              "      <td>NaN</td>\n",
              "      <td>NaN</td>\n",
              "      <td>0</td>\n",
              "    </tr>\n",
              "  </tbody>\n",
              "</table>\n",
              "</div>\n",
              "    <div class=\"colab-df-buttons\">\n",
              "\n",
              "  <div class=\"colab-df-container\">\n",
              "    <button class=\"colab-df-convert\" onclick=\"convertToInteractive('df-5dc57e6a-463d-4f95-9ff2-9efdba0754b6')\"\n",
              "            title=\"Convert this dataframe to an interactive table.\"\n",
              "            style=\"display:none;\">\n",
              "\n",
              "  <svg xmlns=\"http://www.w3.org/2000/svg\" height=\"24px\" viewBox=\"0 -960 960 960\">\n",
              "    <path d=\"M120-120v-720h720v720H120Zm60-500h600v-160H180v160Zm220 220h160v-160H400v160Zm0 220h160v-160H400v160ZM180-400h160v-160H180v160Zm440 0h160v-160H620v160ZM180-180h160v-160H180v160Zm440 0h160v-160H620v160Z\"/>\n",
              "  </svg>\n",
              "    </button>\n",
              "\n",
              "  <style>\n",
              "    .colab-df-container {\n",
              "      display:flex;\n",
              "      gap: 12px;\n",
              "    }\n",
              "\n",
              "    .colab-df-convert {\n",
              "      background-color: #E8F0FE;\n",
              "      border: none;\n",
              "      border-radius: 50%;\n",
              "      cursor: pointer;\n",
              "      display: none;\n",
              "      fill: #1967D2;\n",
              "      height: 32px;\n",
              "      padding: 0 0 0 0;\n",
              "      width: 32px;\n",
              "    }\n",
              "\n",
              "    .colab-df-convert:hover {\n",
              "      background-color: #E2EBFA;\n",
              "      box-shadow: 0px 1px 2px rgba(60, 64, 67, 0.3), 0px 1px 3px 1px rgba(60, 64, 67, 0.15);\n",
              "      fill: #174EA6;\n",
              "    }\n",
              "\n",
              "    .colab-df-buttons div {\n",
              "      margin-bottom: 4px;\n",
              "    }\n",
              "\n",
              "    [theme=dark] .colab-df-convert {\n",
              "      background-color: #3B4455;\n",
              "      fill: #D2E3FC;\n",
              "    }\n",
              "\n",
              "    [theme=dark] .colab-df-convert:hover {\n",
              "      background-color: #434B5C;\n",
              "      box-shadow: 0px 1px 3px 1px rgba(0, 0, 0, 0.15);\n",
              "      filter: drop-shadow(0px 1px 2px rgba(0, 0, 0, 0.3));\n",
              "      fill: #FFFFFF;\n",
              "    }\n",
              "  </style>\n",
              "\n",
              "    <script>\n",
              "      const buttonEl =\n",
              "        document.querySelector('#df-5dc57e6a-463d-4f95-9ff2-9efdba0754b6 button.colab-df-convert');\n",
              "      buttonEl.style.display =\n",
              "        google.colab.kernel.accessAllowed ? 'block' : 'none';\n",
              "\n",
              "      async function convertToInteractive(key) {\n",
              "        const element = document.querySelector('#df-5dc57e6a-463d-4f95-9ff2-9efdba0754b6');\n",
              "        const dataTable =\n",
              "          await google.colab.kernel.invokeFunction('convertToInteractive',\n",
              "                                                    [key], {});\n",
              "        if (!dataTable) return;\n",
              "\n",
              "        const docLinkHtml = 'Like what you see? Visit the ' +\n",
              "          '<a target=\"_blank\" href=https://colab.research.google.com/notebooks/data_table.ipynb>data table notebook</a>'\n",
              "          + ' to learn more about interactive tables.';\n",
              "        element.innerHTML = '';\n",
              "        dataTable['output_type'] = 'display_data';\n",
              "        await google.colab.output.renderOutput(dataTable, element);\n",
              "        const docLink = document.createElement('div');\n",
              "        docLink.innerHTML = docLinkHtml;\n",
              "        element.appendChild(docLink);\n",
              "      }\n",
              "    </script>\n",
              "  </div>\n",
              "\n",
              "\n",
              "<div id=\"df-720e266e-4eaf-42ea-ab35-abcc80e8a9d9\">\n",
              "  <button class=\"colab-df-quickchart\" onclick=\"quickchart('df-720e266e-4eaf-42ea-ab35-abcc80e8a9d9')\"\n",
              "            title=\"Suggest charts\"\n",
              "            style=\"display:none;\">\n",
              "\n",
              "<svg xmlns=\"http://www.w3.org/2000/svg\" height=\"24px\"viewBox=\"0 0 24 24\"\n",
              "     width=\"24px\">\n",
              "    <g>\n",
              "        <path d=\"M19 3H5c-1.1 0-2 .9-2 2v14c0 1.1.9 2 2 2h14c1.1 0 2-.9 2-2V5c0-1.1-.9-2-2-2zM9 17H7v-7h2v7zm4 0h-2V7h2v10zm4 0h-2v-4h2v4z\"/>\n",
              "    </g>\n",
              "</svg>\n",
              "  </button>\n",
              "\n",
              "<style>\n",
              "  .colab-df-quickchart {\n",
              "      --bg-color: #E8F0FE;\n",
              "      --fill-color: #1967D2;\n",
              "      --hover-bg-color: #E2EBFA;\n",
              "      --hover-fill-color: #174EA6;\n",
              "      --disabled-fill-color: #AAA;\n",
              "      --disabled-bg-color: #DDD;\n",
              "  }\n",
              "\n",
              "  [theme=dark] .colab-df-quickchart {\n",
              "      --bg-color: #3B4455;\n",
              "      --fill-color: #D2E3FC;\n",
              "      --hover-bg-color: #434B5C;\n",
              "      --hover-fill-color: #FFFFFF;\n",
              "      --disabled-bg-color: #3B4455;\n",
              "      --disabled-fill-color: #666;\n",
              "  }\n",
              "\n",
              "  .colab-df-quickchart {\n",
              "    background-color: var(--bg-color);\n",
              "    border: none;\n",
              "    border-radius: 50%;\n",
              "    cursor: pointer;\n",
              "    display: none;\n",
              "    fill: var(--fill-color);\n",
              "    height: 32px;\n",
              "    padding: 0;\n",
              "    width: 32px;\n",
              "  }\n",
              "\n",
              "  .colab-df-quickchart:hover {\n",
              "    background-color: var(--hover-bg-color);\n",
              "    box-shadow: 0 1px 2px rgba(60, 64, 67, 0.3), 0 1px 3px 1px rgba(60, 64, 67, 0.15);\n",
              "    fill: var(--button-hover-fill-color);\n",
              "  }\n",
              "\n",
              "  .colab-df-quickchart-complete:disabled,\n",
              "  .colab-df-quickchart-complete:disabled:hover {\n",
              "    background-color: var(--disabled-bg-color);\n",
              "    fill: var(--disabled-fill-color);\n",
              "    box-shadow: none;\n",
              "  }\n",
              "\n",
              "  .colab-df-spinner {\n",
              "    border: 2px solid var(--fill-color);\n",
              "    border-color: transparent;\n",
              "    border-bottom-color: var(--fill-color);\n",
              "    animation:\n",
              "      spin 1s steps(1) infinite;\n",
              "  }\n",
              "\n",
              "  @keyframes spin {\n",
              "    0% {\n",
              "      border-color: transparent;\n",
              "      border-bottom-color: var(--fill-color);\n",
              "      border-left-color: var(--fill-color);\n",
              "    }\n",
              "    20% {\n",
              "      border-color: transparent;\n",
              "      border-left-color: var(--fill-color);\n",
              "      border-top-color: var(--fill-color);\n",
              "    }\n",
              "    30% {\n",
              "      border-color: transparent;\n",
              "      border-left-color: var(--fill-color);\n",
              "      border-top-color: var(--fill-color);\n",
              "      border-right-color: var(--fill-color);\n",
              "    }\n",
              "    40% {\n",
              "      border-color: transparent;\n",
              "      border-right-color: var(--fill-color);\n",
              "      border-top-color: var(--fill-color);\n",
              "    }\n",
              "    60% {\n",
              "      border-color: transparent;\n",
              "      border-right-color: var(--fill-color);\n",
              "    }\n",
              "    80% {\n",
              "      border-color: transparent;\n",
              "      border-right-color: var(--fill-color);\n",
              "      border-bottom-color: var(--fill-color);\n",
              "    }\n",
              "    90% {\n",
              "      border-color: transparent;\n",
              "      border-bottom-color: var(--fill-color);\n",
              "    }\n",
              "  }\n",
              "</style>\n",
              "\n",
              "  <script>\n",
              "    async function quickchart(key) {\n",
              "      const quickchartButtonEl =\n",
              "        document.querySelector('#' + key + ' button');\n",
              "      quickchartButtonEl.disabled = true;  // To prevent multiple clicks.\n",
              "      quickchartButtonEl.classList.add('colab-df-spinner');\n",
              "      try {\n",
              "        const charts = await google.colab.kernel.invokeFunction(\n",
              "            'suggestCharts', [key], {});\n",
              "      } catch (error) {\n",
              "        console.error('Error during call to suggestCharts:', error);\n",
              "      }\n",
              "      quickchartButtonEl.classList.remove('colab-df-spinner');\n",
              "      quickchartButtonEl.classList.add('colab-df-quickchart-complete');\n",
              "    }\n",
              "    (() => {\n",
              "      let quickchartButtonEl =\n",
              "        document.querySelector('#df-720e266e-4eaf-42ea-ab35-abcc80e8a9d9 button');\n",
              "      quickchartButtonEl.style.display =\n",
              "        google.colab.kernel.accessAllowed ? 'block' : 'none';\n",
              "    })();\n",
              "  </script>\n",
              "</div>\n",
              "\n",
              "    </div>\n",
              "  </div>\n"
            ],
            "application/vnd.google.colaboratory.intrinsic+json": {
              "type": "dataframe",
              "variable_name": "df",
              "summary": "{\n  \"name\": \"df\",\n  \"rows\": 2861,\n  \"fields\": [\n    {\n      \"column\": \"Season\",\n      \"properties\": {\n        \"dtype\": \"number\",\n        \"std\": 2,\n        \"min\": 2017,\n        \"max\": 2024,\n        \"num_unique_values\": 8,\n        \"samples\": [\n          2018,\n          2022,\n          2017\n        ],\n        \"semantic_type\": \"\",\n        \"description\": \"\"\n      }\n    },\n    {\n      \"column\": \"Week\",\n      \"properties\": {\n        \"dtype\": \"category\",\n        \"num_unique_values\": 28,\n        \"samples\": [\n          \"Week 5\",\n          \"Pro Bowl\",\n          \"Week 4\"\n        ],\n        \"semantic_type\": \"\",\n        \"description\": \"\"\n      }\n    },\n    {\n      \"column\": \"GameStatus\",\n      \"properties\": {\n        \"dtype\": \"category\",\n        \"num_unique_values\": 4,\n        \"samples\": [\n          \"CANCELLED\",\n          \"UPCOMING\",\n          \"FINAL\"\n        ],\n        \"semantic_type\": \"\",\n        \"description\": \"\"\n      }\n    },\n    {\n      \"column\": \"Day\",\n      \"properties\": {\n        \"dtype\": \"category\",\n        \"num_unique_values\": 8,\n        \"samples\": [\n          \"WED\",\n          \"MON\",\n          \"THU\"\n        ],\n        \"semantic_type\": \"\",\n        \"description\": \"\"\n      }\n    },\n    {\n      \"column\": \"Date\",\n      \"properties\": {\n        \"dtype\": \"category\",\n        \"num_unique_values\": 186,\n        \"samples\": [\n          \"01/27\",\n          \"01/16\",\n          \"08/14\"\n        ],\n        \"semantic_type\": \"\",\n        \"description\": \"\"\n      }\n    },\n    {\n      \"column\": \"AwayTeam\",\n      \"properties\": {\n        \"dtype\": \"category\",\n        \"num_unique_values\": 37,\n        \"samples\": [\n          \"Ravens\",\n          \"Cowboys\",\n          \"Redskins\"\n        ],\n        \"semantic_type\": \"\",\n        \"description\": \"\"\n      }\n    },\n    {\n      \"column\": \"AwayRecord\",\n      \"properties\": {\n        \"dtype\": \"category\",\n        \"num_unique_values\": 212,\n        \"samples\": [\n          \"6-2\",\n          \"2-9-1\",\n          \"6-7-1\"\n        ],\n        \"semantic_type\": \"\",\n        \"description\": \"\"\n      }\n    },\n    {\n      \"column\": \"AwayScore\",\n      \"properties\": {\n        \"dtype\": \"number\",\n        \"std\": 9.796059960293777,\n        \"min\": 0.0,\n        \"max\": 59.0,\n        \"num_unique_values\": 51,\n        \"samples\": [\n          8.0,\n          43.0,\n          44.0\n        ],\n        \"semantic_type\": \"\",\n        \"description\": \"\"\n      }\n    },\n    {\n      \"column\": \"AwayWin\",\n      \"properties\": {\n        \"dtype\": \"number\",\n        \"std\": 0.4980915664931263,\n        \"min\": 0.0,\n        \"max\": 1.0,\n        \"num_unique_values\": 2,\n        \"samples\": [\n          1.0,\n          0.0\n        ],\n        \"semantic_type\": \"\",\n        \"description\": \"\"\n      }\n    },\n    {\n      \"column\": \"HomeTeam\",\n      \"properties\": {\n        \"dtype\": \"category\",\n        \"num_unique_values\": 36,\n        \"samples\": [\n          \"Commanders\",\n          \"Rams\"\n        ],\n        \"semantic_type\": \"\",\n        \"description\": \"\"\n      }\n    },\n    {\n      \"column\": \"HomeRecord\",\n      \"properties\": {\n        \"dtype\": \"category\",\n        \"num_unique_values\": 216,\n        \"samples\": [\n          \"1-6-1\",\n          \"5-12\"\n        ],\n        \"semantic_type\": \"\",\n        \"description\": \"\"\n      }\n    },\n    {\n      \"column\": \"HomeScore\",\n      \"properties\": {\n        \"dtype\": \"number\",\n        \"std\": 10.120692396053682,\n        \"min\": 0.0,\n        \"max\": 70.0,\n        \"num_unique_values\": 58,\n        \"samples\": [\n          20.0,\n          17.0\n        ],\n        \"semantic_type\": \"\",\n        \"description\": \"\"\n      }\n    },\n    {\n      \"column\": \"HomeWin\",\n      \"properties\": {\n        \"dtype\": \"number\",\n        \"std\": 0.49857523638332235,\n        \"min\": 0.0,\n        \"max\": 1.0,\n        \"num_unique_values\": 2,\n        \"samples\": [\n          0.0,\n          1.0\n        ],\n        \"semantic_type\": \"\",\n        \"description\": \"\"\n      }\n    },\n    {\n      \"column\": \"AwaySeeding\",\n      \"properties\": {\n        \"dtype\": \"number\",\n        \"std\": 1.703729155698545,\n        \"min\": 1.0,\n        \"max\": 7.0,\n        \"num_unique_values\": 7,\n        \"samples\": [\n          5.0,\n          6.0\n        ],\n        \"semantic_type\": \"\",\n        \"description\": \"\"\n      }\n    },\n    {\n      \"column\": \"HomeSeeding\",\n      \"properties\": {\n        \"dtype\": \"number\",\n        \"std\": 1.1194679539382997,\n        \"min\": 1.0,\n        \"max\": 5.0,\n        \"num_unique_values\": 5,\n        \"samples\": [\n          3.0,\n          5.0\n        ],\n        \"semantic_type\": \"\",\n        \"description\": \"\"\n      }\n    },\n    {\n      \"column\": \"PostSeason\",\n      \"properties\": {\n        \"dtype\": \"number\",\n        \"std\": 0,\n        \"min\": 0,\n        \"max\": 1,\n        \"num_unique_values\": 2,\n        \"samples\": [\n          1,\n          0\n        ],\n        \"semantic_type\": \"\",\n        \"description\": \"\"\n      }\n    }\n  ]\n}"
            }
          },
          "metadata": {},
          "execution_count": 60
        }
      ]
    },
    {
      "cell_type": "code",
      "source": [
        "exploration = df"
      ],
      "metadata": {
        "id": "IHqAhzFmTN8Q"
      },
      "execution_count": 61,
      "outputs": []
    },
    {
      "cell_type": "code",
      "source": [
        "superBowl = exploration[exploration[\"Week\"] == \"Super Bowl\"]\n",
        "print(superBowl)"
      ],
      "metadata": {
        "colab": {
          "base_uri": "https://localhost:8080/"
        },
        "id": "Kz59RruaTvYY",
        "outputId": "b42a0c9c-abad-4c6f-90ba-d119c3aa7013"
      },
      "execution_count": 62,
      "outputs": [
        {
          "output_type": "stream",
          "name": "stdout",
          "text": [
            "      Season        Week GameStatus  Day   Date  AwayTeam AwayRecord  \\\n",
            "364     2017  Super Bowl      FINAL  SUN  02/04    Eagles       13-3   \n",
            "729     2018  Super Bowl      FINAL  SUN  02/03  Patriots       11-5   \n",
            "1094    2019  Super Bowl      FINAL  SUN  02/02     49ers       13-3   \n",
            "1395    2020  Super Bowl      FINAL  SUN  02/07    Chiefs       14-2   \n",
            "1762    2021  Super Bowl      FINAL  SUN  02/13      Rams       12-5   \n",
            "2128    2022  Super Bowl      FINAL  SUN  02/12    Chiefs       14-3   \n",
            "2494    2023  Super Bowl      FINAL  SUN  02/11     49ers       12-5   \n",
            "2860    2024  Super Bowl   UPCOMING  SUN  02/09    Chiefs       15-2   \n",
            "\n",
            "      AwayScore  AwayWin    HomeTeam HomeRecord  HomeScore  HomeWin  \\\n",
            "364        41.0      1.0    Patriots       13-3       33.0      0.0   \n",
            "729        13.0      1.0        Rams       13-3        3.0      0.0   \n",
            "1094       20.0      0.0      Chiefs       12-4       31.0      1.0   \n",
            "1395        9.0      0.0  Buccaneers       11-5       31.0      1.0   \n",
            "1762       23.0      1.0     Bengals       10-7       20.0      0.0   \n",
            "2128       38.0      1.0      Eagles       14-3       35.0      0.0   \n",
            "2494       22.0      0.0      Chiefs       11-6       25.0      1.0   \n",
            "2860        0.0      0.0      Eagles       14-3        0.0      0.0   \n",
            "\n",
            "      AwaySeeding  HomeSeeding  PostSeason  \n",
            "364           1.0          1.0           1  \n",
            "729           2.0          2.0           1  \n",
            "1094          1.0          2.0           1  \n",
            "1395          1.0          5.0           1  \n",
            "1762          4.0          4.0           1  \n",
            "2128          1.0          1.0           1  \n",
            "2494          1.0          3.0           1  \n",
            "2860          1.0          2.0           1  \n"
          ]
        }
      ]
    },
    {
      "cell_type": "markdown",
      "source": [],
      "metadata": {
        "id": "mSHfyvj3TGo2"
      }
    },
    {
      "cell_type": "code",
      "source": [
        "# quitar columnas que no me interesan de momento\n",
        "labelsToRemove = [\"Season\", \"GameStatus\", \"Day\", \"Date\", \"AwaySeeding\",\"AwayRecord\", \"HomeSeeding\", \"PostSeason\", \"Week\", \"AwayTeam\", \"AwayWin\", \"HomeTeam\", \"HomeRecord\", \"HomeWin\"]\n",
        "df = df.drop(labels=labelsToRemove, axis=1)\n",
        "df.head()"
      ],
      "metadata": {
        "colab": {
          "base_uri": "https://localhost:8080/",
          "height": 206
        },
        "id": "cM2Yl50wNmMA",
        "outputId": "fb7a77ed-c603-4217-92dd-7401156240e3"
      },
      "execution_count": 63,
      "outputs": [
        {
          "output_type": "execute_result",
          "data": {
            "text/plain": [
              "   AwayScore  HomeScore\n",
              "0       18.0       20.0\n",
              "1       17.0       27.0\n",
              "2       17.0       10.0\n",
              "3       20.0       23.0\n",
              "4        3.0       23.0"
            ],
            "text/html": [
              "\n",
              "  <div id=\"df-d02d7e91-647b-433e-8b32-64437cc3b407\" class=\"colab-df-container\">\n",
              "    <div>\n",
              "<style scoped>\n",
              "    .dataframe tbody tr th:only-of-type {\n",
              "        vertical-align: middle;\n",
              "    }\n",
              "\n",
              "    .dataframe tbody tr th {\n",
              "        vertical-align: top;\n",
              "    }\n",
              "\n",
              "    .dataframe thead th {\n",
              "        text-align: right;\n",
              "    }\n",
              "</style>\n",
              "<table border=\"1\" class=\"dataframe\">\n",
              "  <thead>\n",
              "    <tr style=\"text-align: right;\">\n",
              "      <th></th>\n",
              "      <th>AwayScore</th>\n",
              "      <th>HomeScore</th>\n",
              "    </tr>\n",
              "  </thead>\n",
              "  <tbody>\n",
              "    <tr>\n",
              "      <th>0</th>\n",
              "      <td>18.0</td>\n",
              "      <td>20.0</td>\n",
              "    </tr>\n",
              "    <tr>\n",
              "      <th>1</th>\n",
              "      <td>17.0</td>\n",
              "      <td>27.0</td>\n",
              "    </tr>\n",
              "    <tr>\n",
              "      <th>2</th>\n",
              "      <td>17.0</td>\n",
              "      <td>10.0</td>\n",
              "    </tr>\n",
              "    <tr>\n",
              "      <th>3</th>\n",
              "      <td>20.0</td>\n",
              "      <td>23.0</td>\n",
              "    </tr>\n",
              "    <tr>\n",
              "      <th>4</th>\n",
              "      <td>3.0</td>\n",
              "      <td>23.0</td>\n",
              "    </tr>\n",
              "  </tbody>\n",
              "</table>\n",
              "</div>\n",
              "    <div class=\"colab-df-buttons\">\n",
              "\n",
              "  <div class=\"colab-df-container\">\n",
              "    <button class=\"colab-df-convert\" onclick=\"convertToInteractive('df-d02d7e91-647b-433e-8b32-64437cc3b407')\"\n",
              "            title=\"Convert this dataframe to an interactive table.\"\n",
              "            style=\"display:none;\">\n",
              "\n",
              "  <svg xmlns=\"http://www.w3.org/2000/svg\" height=\"24px\" viewBox=\"0 -960 960 960\">\n",
              "    <path d=\"M120-120v-720h720v720H120Zm60-500h600v-160H180v160Zm220 220h160v-160H400v160Zm0 220h160v-160H400v160ZM180-400h160v-160H180v160Zm440 0h160v-160H620v160ZM180-180h160v-160H180v160Zm440 0h160v-160H620v160Z\"/>\n",
              "  </svg>\n",
              "    </button>\n",
              "\n",
              "  <style>\n",
              "    .colab-df-container {\n",
              "      display:flex;\n",
              "      gap: 12px;\n",
              "    }\n",
              "\n",
              "    .colab-df-convert {\n",
              "      background-color: #E8F0FE;\n",
              "      border: none;\n",
              "      border-radius: 50%;\n",
              "      cursor: pointer;\n",
              "      display: none;\n",
              "      fill: #1967D2;\n",
              "      height: 32px;\n",
              "      padding: 0 0 0 0;\n",
              "      width: 32px;\n",
              "    }\n",
              "\n",
              "    .colab-df-convert:hover {\n",
              "      background-color: #E2EBFA;\n",
              "      box-shadow: 0px 1px 2px rgba(60, 64, 67, 0.3), 0px 1px 3px 1px rgba(60, 64, 67, 0.15);\n",
              "      fill: #174EA6;\n",
              "    }\n",
              "\n",
              "    .colab-df-buttons div {\n",
              "      margin-bottom: 4px;\n",
              "    }\n",
              "\n",
              "    [theme=dark] .colab-df-convert {\n",
              "      background-color: #3B4455;\n",
              "      fill: #D2E3FC;\n",
              "    }\n",
              "\n",
              "    [theme=dark] .colab-df-convert:hover {\n",
              "      background-color: #434B5C;\n",
              "      box-shadow: 0px 1px 3px 1px rgba(0, 0, 0, 0.15);\n",
              "      filter: drop-shadow(0px 1px 2px rgba(0, 0, 0, 0.3));\n",
              "      fill: #FFFFFF;\n",
              "    }\n",
              "  </style>\n",
              "\n",
              "    <script>\n",
              "      const buttonEl =\n",
              "        document.querySelector('#df-d02d7e91-647b-433e-8b32-64437cc3b407 button.colab-df-convert');\n",
              "      buttonEl.style.display =\n",
              "        google.colab.kernel.accessAllowed ? 'block' : 'none';\n",
              "\n",
              "      async function convertToInteractive(key) {\n",
              "        const element = document.querySelector('#df-d02d7e91-647b-433e-8b32-64437cc3b407');\n",
              "        const dataTable =\n",
              "          await google.colab.kernel.invokeFunction('convertToInteractive',\n",
              "                                                    [key], {});\n",
              "        if (!dataTable) return;\n",
              "\n",
              "        const docLinkHtml = 'Like what you see? Visit the ' +\n",
              "          '<a target=\"_blank\" href=https://colab.research.google.com/notebooks/data_table.ipynb>data table notebook</a>'\n",
              "          + ' to learn more about interactive tables.';\n",
              "        element.innerHTML = '';\n",
              "        dataTable['output_type'] = 'display_data';\n",
              "        await google.colab.output.renderOutput(dataTable, element);\n",
              "        const docLink = document.createElement('div');\n",
              "        docLink.innerHTML = docLinkHtml;\n",
              "        element.appendChild(docLink);\n",
              "      }\n",
              "    </script>\n",
              "  </div>\n",
              "\n",
              "\n",
              "<div id=\"df-7afc0f32-d379-4f4d-82d4-5cd1aa3094eb\">\n",
              "  <button class=\"colab-df-quickchart\" onclick=\"quickchart('df-7afc0f32-d379-4f4d-82d4-5cd1aa3094eb')\"\n",
              "            title=\"Suggest charts\"\n",
              "            style=\"display:none;\">\n",
              "\n",
              "<svg xmlns=\"http://www.w3.org/2000/svg\" height=\"24px\"viewBox=\"0 0 24 24\"\n",
              "     width=\"24px\">\n",
              "    <g>\n",
              "        <path d=\"M19 3H5c-1.1 0-2 .9-2 2v14c0 1.1.9 2 2 2h14c1.1 0 2-.9 2-2V5c0-1.1-.9-2-2-2zM9 17H7v-7h2v7zm4 0h-2V7h2v10zm4 0h-2v-4h2v4z\"/>\n",
              "    </g>\n",
              "</svg>\n",
              "  </button>\n",
              "\n",
              "<style>\n",
              "  .colab-df-quickchart {\n",
              "      --bg-color: #E8F0FE;\n",
              "      --fill-color: #1967D2;\n",
              "      --hover-bg-color: #E2EBFA;\n",
              "      --hover-fill-color: #174EA6;\n",
              "      --disabled-fill-color: #AAA;\n",
              "      --disabled-bg-color: #DDD;\n",
              "  }\n",
              "\n",
              "  [theme=dark] .colab-df-quickchart {\n",
              "      --bg-color: #3B4455;\n",
              "      --fill-color: #D2E3FC;\n",
              "      --hover-bg-color: #434B5C;\n",
              "      --hover-fill-color: #FFFFFF;\n",
              "      --disabled-bg-color: #3B4455;\n",
              "      --disabled-fill-color: #666;\n",
              "  }\n",
              "\n",
              "  .colab-df-quickchart {\n",
              "    background-color: var(--bg-color);\n",
              "    border: none;\n",
              "    border-radius: 50%;\n",
              "    cursor: pointer;\n",
              "    display: none;\n",
              "    fill: var(--fill-color);\n",
              "    height: 32px;\n",
              "    padding: 0;\n",
              "    width: 32px;\n",
              "  }\n",
              "\n",
              "  .colab-df-quickchart:hover {\n",
              "    background-color: var(--hover-bg-color);\n",
              "    box-shadow: 0 1px 2px rgba(60, 64, 67, 0.3), 0 1px 3px 1px rgba(60, 64, 67, 0.15);\n",
              "    fill: var(--button-hover-fill-color);\n",
              "  }\n",
              "\n",
              "  .colab-df-quickchart-complete:disabled,\n",
              "  .colab-df-quickchart-complete:disabled:hover {\n",
              "    background-color: var(--disabled-bg-color);\n",
              "    fill: var(--disabled-fill-color);\n",
              "    box-shadow: none;\n",
              "  }\n",
              "\n",
              "  .colab-df-spinner {\n",
              "    border: 2px solid var(--fill-color);\n",
              "    border-color: transparent;\n",
              "    border-bottom-color: var(--fill-color);\n",
              "    animation:\n",
              "      spin 1s steps(1) infinite;\n",
              "  }\n",
              "\n",
              "  @keyframes spin {\n",
              "    0% {\n",
              "      border-color: transparent;\n",
              "      border-bottom-color: var(--fill-color);\n",
              "      border-left-color: var(--fill-color);\n",
              "    }\n",
              "    20% {\n",
              "      border-color: transparent;\n",
              "      border-left-color: var(--fill-color);\n",
              "      border-top-color: var(--fill-color);\n",
              "    }\n",
              "    30% {\n",
              "      border-color: transparent;\n",
              "      border-left-color: var(--fill-color);\n",
              "      border-top-color: var(--fill-color);\n",
              "      border-right-color: var(--fill-color);\n",
              "    }\n",
              "    40% {\n",
              "      border-color: transparent;\n",
              "      border-right-color: var(--fill-color);\n",
              "      border-top-color: var(--fill-color);\n",
              "    }\n",
              "    60% {\n",
              "      border-color: transparent;\n",
              "      border-right-color: var(--fill-color);\n",
              "    }\n",
              "    80% {\n",
              "      border-color: transparent;\n",
              "      border-right-color: var(--fill-color);\n",
              "      border-bottom-color: var(--fill-color);\n",
              "    }\n",
              "    90% {\n",
              "      border-color: transparent;\n",
              "      border-bottom-color: var(--fill-color);\n",
              "    }\n",
              "  }\n",
              "</style>\n",
              "\n",
              "  <script>\n",
              "    async function quickchart(key) {\n",
              "      const quickchartButtonEl =\n",
              "        document.querySelector('#' + key + ' button');\n",
              "      quickchartButtonEl.disabled = true;  // To prevent multiple clicks.\n",
              "      quickchartButtonEl.classList.add('colab-df-spinner');\n",
              "      try {\n",
              "        const charts = await google.colab.kernel.invokeFunction(\n",
              "            'suggestCharts', [key], {});\n",
              "      } catch (error) {\n",
              "        console.error('Error during call to suggestCharts:', error);\n",
              "      }\n",
              "      quickchartButtonEl.classList.remove('colab-df-spinner');\n",
              "      quickchartButtonEl.classList.add('colab-df-quickchart-complete');\n",
              "    }\n",
              "    (() => {\n",
              "      let quickchartButtonEl =\n",
              "        document.querySelector('#df-7afc0f32-d379-4f4d-82d4-5cd1aa3094eb button');\n",
              "      quickchartButtonEl.style.display =\n",
              "        google.colab.kernel.accessAllowed ? 'block' : 'none';\n",
              "    })();\n",
              "  </script>\n",
              "</div>\n",
              "\n",
              "    </div>\n",
              "  </div>\n"
            ],
            "application/vnd.google.colaboratory.intrinsic+json": {
              "type": "dataframe",
              "variable_name": "df",
              "summary": "{\n  \"name\": \"df\",\n  \"rows\": 2861,\n  \"fields\": [\n    {\n      \"column\": \"AwayScore\",\n      \"properties\": {\n        \"dtype\": \"number\",\n        \"std\": 9.796059960293777,\n        \"min\": 0.0,\n        \"max\": 59.0,\n        \"num_unique_values\": 51,\n        \"samples\": [\n          8.0,\n          43.0,\n          44.0\n        ],\n        \"semantic_type\": \"\",\n        \"description\": \"\"\n      }\n    },\n    {\n      \"column\": \"HomeScore\",\n      \"properties\": {\n        \"dtype\": \"number\",\n        \"std\": 10.120692396053682,\n        \"min\": 0.0,\n        \"max\": 70.0,\n        \"num_unique_values\": 58,\n        \"samples\": [\n          20.0,\n          17.0,\n          33.0\n        ],\n        \"semantic_type\": \"\",\n        \"description\": \"\"\n      }\n    }\n  ]\n}"
            }
          },
          "metadata": {},
          "execution_count": 63
        }
      ]
    },
    {
      "cell_type": "markdown",
      "source": [
        "# Box plot de puntajes"
      ],
      "metadata": {
        "id": "FzdjfgjRXpPY"
      }
    },
    {
      "cell_type": "code",
      "source": [
        "sns.boxplot(data=[df['AwayScore'], df['HomeScore']])\n",
        "plt.title('Box Plot Combinado de AwayScore y HomeScore')\n",
        "plt.xticks([0, 1], ['AwayScore', 'HomeScore'])  # Etiquetas para el eje x\n",
        "plt.show()"
      ],
      "metadata": {
        "colab": {
          "base_uri": "https://localhost:8080/",
          "height": 452
        },
        "id": "mfOLz0tcOdK8",
        "outputId": "30a74002-6ff6-4244-8c72-5a4972b401df"
      },
      "execution_count": 64,
      "outputs": [
        {
          "output_type": "display_data",
          "data": {
            "text/plain": [
              "<Figure size 640x480 with 1 Axes>"
            ],
            "image/png": "[encoded data removed]"
          },
          "metadata": {}
        }
      ]
    },
    {
      "cell_type": "markdown",
      "source": [
        "Con esto al menos puedo decir, que no debería esperar que el **Home sea mayor a 50**, ni que el **Away sea mayor a 46**"
      ],
      "metadata": {
        "id": "1MgVNbnyX5WA"
      }
    },
    {
      "cell_type": "markdown",
      "source": [
        "# Histograma de puntuaciones"
      ],
      "metadata": {
        "id": "n9cn-Pn8Xi4e"
      }
    },
    {
      "cell_type": "code",
      "source": [
        "# Suponiendo que tu DataFrame se llama 'df' y las columnas son 'AwayScore' y 'HomeScore'\n",
        "# Combinamos los puntajes de ambos equipos en una sola serie\n",
        "df = pd.read_csv('2017-2024_scores.csv')\n",
        "all_scores = pd.concat([df['AwayScore'], df['HomeScore']], ignore_index=True)\n",
        "\n",
        "# Filtramos los puntajes del Super Bowl\n",
        "super_bowl_df = df[df[\"Week\"] == \"Super Bowl\"]\n",
        "winning_scores = super_bowl_df[super_bowl_df[\"AwayWin\"] == 1][\"AwayScore\"].tolist() + super_bowl_df[super_bowl_df[\"HomeWin\"] == 1][\"HomeScore\"].tolist()\n",
        "losing_scores = super_bowl_df[super_bowl_df[\"AwayWin\"] == 0][\"AwayScore\"].tolist() + super_bowl_df[super_bowl_df[\"HomeWin\"] == 0][\"HomeScore\"].tolist()\n",
        "\n",
        "# Creamos el histograma con colores personalizados\n",
        "plt.figure(figsize=(12, 6))\n",
        "\n",
        "# Convert the minimum and maximum scores to integers for range\n",
        "N, bins, patches = plt.hist(all_scores, bins=range(int(min(all_scores)), int(max(all_scores)) + 2, 1), color='blue')\n",
        "\n",
        "# Cambiamos el color de las barras según si son puntajes de ganadores o perdedores del Super Bowl\n",
        "for score, patch in zip(bins, patches):\n",
        "    if score in winning_scores:\n",
        "        patch.set_facecolor('yellow')  # Amarillo para ganadores del Super Bowl\n",
        "    elif score in losing_scores:\n",
        "        patch.set_facecolor('red')    # Rojo para perdedores del Super Bowl\n",
        "    # else: #El resto de puntajes ya son azules por defecto.\n",
        "\n",
        "plt.title('Frecuencia de Puntajes en la NFL (2017-2024)')\n",
        "plt.xlabel('Puntaje')\n",
        "plt.ylabel('Frecuencia')\n",
        "plt.xticks(range(0, 46, 2))\n",
        "plt.show()"
      ],
      "metadata": {
        "colab": {
          "base_uri": "https://localhost:8080/",
          "height": 564
        },
        "id": "udKPIiXdSW0_",
        "outputId": "ba903b4f-bd9f-47f1-ffae-58332a1f3724"
      },
      "execution_count": 67,
      "outputs": [
        {
          "output_type": "display_data",
          "data": {
            "text/plain": [
              "<Figure size 1200x600 with 1 Axes>"
            ],
            "image/png": "[encoded data removed]"
          },
          "metadata": {}
        }
      ]
    },
    {
      "cell_type": "markdown",
      "source": [
        "# Histograma de puntajes de playoffs"
      ],
      "metadata": {
        "id": "fGVITIAxoVJQ"
      }
    },
    {
      "cell_type": "code",
      "source": [
        "# prompt: frecuencia de puntajes de todos los partidos cuya week diga playoffs o superbowl, sin colores especificos\n",
        "\n",
        "# Load the dataset\n",
        "df = pd.read_csv('2017-2024_scores.csv')\n",
        "\n",
        "# Filter for playoff games (including Super Bowl)\n",
        "playoff_df = df[df[\"PostSeason\"] == 1]\n",
        "\n",
        "# Combine scores from both teams\n",
        "all_scores = pd.concat([playoff_df['AwayScore'], playoff_df['HomeScore']], ignore_index=True)\n",
        "\n",
        "# Create the histogram\n",
        "plt.figure(figsize=(12, 6))\n",
        "plt.hist(all_scores, bins=range(int(min(all_scores)), int(max(all_scores)) + 2, 1))  # Adjust bins as needed\n",
        "\n",
        "plt.title('Histogram of Scores in Playoff Games')\n",
        "plt.xlabel('Score')\n",
        "plt.ylabel('Frequency')\n",
        "plt.xticks(range(0, int(max(all_scores)) + 2, 2))  # Adjust x-axis ticks if needed\n",
        "plt.show()\n"
      ],
      "metadata": {
        "colab": {
          "base_uri": "https://localhost:8080/",
          "height": 564
        },
        "id": "heX1WCusmqiq",
        "outputId": "df0d3b3a-876a-4c8c-9c5b-a86d0dcb13d7"
      },
      "execution_count": 78,
      "outputs": [
        {
          "output_type": "display_data",
          "data": {
            "text/plain": [
              "<Figure size 1200x600 with 1 Axes>"
            ],
            "image/png": "[encoded data removed]"
          },
          "metadata": {}
        }
      ]
    },
    {
      "cell_type": "markdown",
      "source": [
        "# Diferencias y puntajes en super bowls pasados"
      ],
      "metadata": {
        "id": "AF-ocexAYe0Y"
      }
    },
    {
      "cell_type": "code",
      "source": [
        "df = pd.read_csv('2017-2024_scores.csv')\n"
      ],
      "metadata": {
        "id": "IvRLtke0YeL4"
      },
      "execution_count": null,
      "outputs": []
    },
    {
      "cell_type": "code",
      "source": [
        "# prompt: vuelve a leer el df e imprime las diferencias entre los scores de superbowl. luego dame la diferencia promedio con desvest\n",
        "\n",
        "# Recargar el DataFrame (si es necesario)\n",
        "df = pd.read_csv('2017-2024_scores.csv')\n",
        "\n",
        "# Filtrar para obtener solo los partidos del Super Bowl\n",
        "super_bowl_df = df[df[\"Week\"] == \"Super Bowl\"]\n",
        "\n",
        "# Calcular la diferencia de puntos en cada Super Bowl\n",
        "super_bowl_df['ScoreDifference'] = abs(super_bowl_df['AwayScore'] - super_bowl_df['HomeScore'])\n",
        "\n",
        "# Imprimir las diferencias de puntos\n",
        "print(super_bowl_df[['AwayTeam', 'AwayScore', 'HomeTeam', 'HomeScore', 'ScoreDifference']])\n",
        "\n",
        "# Calcular la diferencia promedio y la desviación estándar\n",
        "average_difference = super_bowl_df['ScoreDifference'].mean()\n",
        "std_dev_difference = super_bowl_df['ScoreDifference'].std()\n",
        "\n",
        "print(f\"\\nDiferencia promedio de puntos en el Super Bowl: {average_difference:.2f}\")\n",
        "print(f\"Desviación estándar de la diferencia de puntos: {std_dev_difference:.2f}\")\n"
      ],
      "metadata": {
        "colab": {
          "base_uri": "https://localhost:8080/"
        },
        "id": "bvrOYRnebUqM",
        "outputId": "d09492d1-3750-4173-f3b9-ea71131937fe"
      },
      "execution_count": 70,
      "outputs": [
        {
          "output_type": "stream",
          "name": "stdout",
          "text": [
            "      AwayTeam  AwayScore    HomeTeam  HomeScore  ScoreDifference\n",
            "364     Eagles       41.0    Patriots       33.0              8.0\n",
            "729   Patriots       13.0        Rams        3.0             10.0\n",
            "1094     49ers       20.0      Chiefs       31.0             11.0\n",
            "1395    Chiefs        9.0  Buccaneers       31.0             22.0\n",
            "1762      Rams       23.0     Bengals       20.0              3.0\n",
            "2128    Chiefs       38.0      Eagles       35.0              3.0\n",
            "2494     49ers       22.0      Chiefs       25.0              3.0\n",
            "2860    Chiefs        0.0      Eagles        0.0              0.0\n",
            "\n",
            "Diferencia promedio de puntos en el Super Bowl: 7.50\n",
            "Desviación estándar de la diferencia de puntos: 7.03\n"
          ]
        },
        {
          "output_type": "stream",
          "name": "stderr",
          "text": [
            "<ipython-input-70-3a3de78157f8>:10: SettingWithCopyWarning: \n",
            "A value is trying to be set on a copy of a slice from a DataFrame.\n",
            "Try using .loc[row_indexer,col_indexer] = value instead\n",
            "\n",
            "See the caveats in the documentation: https://pandas.pydata.org/pandas-docs/stable/user_guide/indexing.html#returning-a-view-versus-a-copy\n",
            "  super_bowl_df['ScoreDifference'] = abs(super_bowl_df['AwayScore'] - super_bowl_df['HomeScore'])\n"
          ]
        }
      ]
    },
    {
      "cell_type": "markdown",
      "source": [
        "# Histograma diferencia puntajes"
      ],
      "metadata": {
        "id": "ac3r0zyQhk2D"
      }
    },
    {
      "cell_type": "code",
      "source": [
        "# prompt: hazme un histograma de diferencias de puntajes, pero detodos los partidos\n",
        "\n",
        "# Recargar el DataFrame (si es necesario)\n",
        "df = pd.read_csv('2017-2024_scores.csv')\n",
        "\n",
        "# Calcular la diferencia de puntos para todos los partidos\n",
        "df['ScoreDifference'] = abs(df['AwayScore'] - df['HomeScore'])\n",
        "\n",
        "# Crear el histograma de las diferencias de puntos\n",
        "plt.figure(figsize=(10, 6))\n",
        "sns.histplot(df['ScoreDifference'], bins=range(0, int(df['ScoreDifference'].max()) + 2, 1), kde=False)  # Usar bins para controlar la precisión\n",
        "plt.title('Histograma de Diferencias de Puntajes (Todos los Partidos)')\n",
        "plt.xlabel('Diferencia de Puntajes')\n",
        "plt.ylabel('Frecuencia')\n",
        "plt.xticks(range(0, int(df['ScoreDifference'].max()) + 2, 2)) # Ajustar las marcas del eje x\n",
        "plt.show()\n"
      ],
      "metadata": {
        "colab": {
          "base_uri": "https://localhost:8080/",
          "height": 564
        },
        "id": "o76qzUuHhLaD",
        "outputId": "11e353f2-2e7d-4adc-ec62-22edb019d1b3"
      },
      "execution_count": 74,
      "outputs": [
        {
          "output_type": "display_data",
          "data": {
            "text/plain": [
              "<Figure size 1000x600 with 1 Axes>"
            ],
            "image/png": "[encoded data removed]"
          },
          "metadata": {}
        }
      ]
    },
    {
      "cell_type": "markdown",
      "source": [
        "# Histograma diferencia puntajes playoffs"
      ],
      "metadata": {
        "id": "vR9FOSNdocAx"
      }
    },
    {
      "cell_type": "code",
      "source": [
        "# Load the dataset\n",
        "df = pd.read_csv('2017-2024_scores.csv')\n",
        "\n",
        "# Filter for playoff games (including Super Bowl)\n",
        "playoff_df = df[df[\"PostSeason\"] == 1]  # Assuming \"PostSeason\" column indicates playoff games\n",
        "\n",
        "# Calculate score differences for playoff games\n",
        "playoff_df['ScoreDifference'] = abs(playoff_df['AwayScore'] - playoff_df['HomeScore'])\n",
        "\n",
        "# Create the histogram\n",
        "plt.hist(playoff_df['ScoreDifference'], bins=range(0, int(playoff_df['ScoreDifference'].max()) + 2, 1))\n",
        "plt.title('Histogram of Score Differences in Playoff Games')\n",
        "plt.xlabel('Score Difference')\n",
        "plt.ylabel('Frequency')\n",
        "plt.show()"
      ],
      "metadata": {
        "colab": {
          "base_uri": "https://localhost:8080/",
          "height": 576
        },
        "id": "M6N-II0XiiDJ",
        "outputId": "c6732aff-fd48-4cf8-ae47-b16f9cdddeff"
      },
      "execution_count": 75,
      "outputs": [
        {
          "output_type": "stream",
          "name": "stderr",
          "text": [
            "<ipython-input-75-21e575e4487c>:8: SettingWithCopyWarning: \n",
            "A value is trying to be set on a copy of a slice from a DataFrame.\n",
            "Try using .loc[row_indexer,col_indexer] = value instead\n",
            "\n",
            "See the caveats in the documentation: https://pandas.pydata.org/pandas-docs/stable/user_guide/indexing.html#returning-a-view-versus-a-copy\n",
            "  playoff_df['ScoreDifference'] = abs(playoff_df['AwayScore'] - playoff_df['HomeScore'])\n"
          ]
        },
        {
          "output_type": "display_data",
          "data": {
            "text/plain": [
              "<Figure size 640x480 with 1 Axes>"
            ],
            "image/png": "[encoded data removed]"
          },
          "metadata": {}
        }
      ]
    },
    {
      "cell_type": "markdown",
      "source": [
        "# diferencias puntajes por equipo"
      ],
      "metadata": {
        "id": "j16caFO6gbWg"
      }
    },
    {
      "cell_type": "code",
      "source": [
        "# prompt: ahora crea dos data frames, y para cada uno quiero que eventualmente me muestres la score difference para todos los partidos en los que juege chiefs y su diferencia promedio (con su desvest), y que luego hagas lo mismo para los eagles\n",
        "\n",
        "# Create a copy to avoid modifying the original DataFrame\n",
        "chiefs_df = df.copy()\n",
        "eagles_df = df.copy()\n",
        "\n",
        "# Filter for games where Chiefs played\n",
        "chiefs_df = chiefs_df[\n",
        "    (chiefs_df[\"AwayTeam\"] == \"Chiefs\") | (chiefs_df[\"HomeTeam\"] == \"Chiefs\")\n",
        "]\n",
        "\n",
        "# Calculate score difference for Chiefs games\n",
        "chiefs_df[\"ScoreDifference\"] = np.where(\n",
        "    chiefs_df[\"AwayTeam\"] == \"Chiefs\",\n",
        "    chiefs_df[\"AwayScore\"] - chiefs_df[\"HomeScore\"],\n",
        "    chiefs_df[\"HomeScore\"] - chiefs_df[\"AwayScore\"],\n",
        ")\n",
        "\n",
        "# Print score difference for Chiefs games\n",
        "print(\"Chiefs Score Differences:\")\n",
        "print(chiefs_df[[\"AwayTeam\", \"AwayScore\", \"HomeTeam\", \"HomeScore\", \"ScoreDifference\"]])\n",
        "\n",
        "# Calculate average and standard deviation of score difference for Chiefs\n",
        "avg_chiefs_diff = chiefs_df[\"ScoreDifference\"].mean()\n",
        "std_chiefs_diff = chiefs_df[\"ScoreDifference\"].std()\n",
        "\n",
        "print(f\"\\nAverage Chiefs Score Difference: {avg_chiefs_diff:.2f}\")\n",
        "print(f\"Standard Deviation of Chiefs Score Difference: {std_chiefs_diff:.2f}\")\n",
        "\n",
        "# Filter for games where Eagles played\n",
        "eagles_df = eagles_df[\n",
        "    (eagles_df[\"AwayTeam\"] == \"Eagles\") | (eagles_df[\"HomeTeam\"] == \"Eagles\")\n",
        "]\n",
        "\n",
        "# Calculate score difference for Eagles games\n",
        "eagles_df[\"ScoreDifference\"] = np.where(\n",
        "    eagles_df[\"AwayTeam\"] == \"Eagles\",\n",
        "    eagles_df[\"AwayScore\"] - eagles_df[\"HomeScore\"],\n",
        "    eagles_df[\"HomeScore\"] - eagles_df[\"AwayScore\"],\n",
        ")\n",
        "\n",
        "# Print score difference for Eagles games\n",
        "print(\"\\nEagles Score Differences:\")\n",
        "print(eagles_df[[\"AwayTeam\", \"AwayScore\", \"HomeTeam\", \"HomeScore\", \"ScoreDifference\"]])\n",
        "\n",
        "# Calculate average and standard deviation of score difference for Eagles\n",
        "avg_eagles_diff = eagles_df[\"ScoreDifference\"].mean()\n",
        "std_eagles_diff = eagles_df[\"ScoreDifference\"].std()\n",
        "\n",
        "print(f\"\\nAverage Eagles Score Difference: {avg_eagles_diff:.2f}\")\n",
        "print(f\"Standard Deviation of Eagles Score Difference: {std_eagles_diff:.2f}\")\n"
      ],
      "metadata": {
        "colab": {
          "base_uri": "https://localhost:8080/"
        },
        "id": "0bxGuznsb-yj",
        "outputId": "3c4fd3ad-c360-4182-a352-324457f2d203"
      },
      "execution_count": 71,
      "outputs": [
        {
          "output_type": "stream",
          "name": "stdout",
          "text": [
            "Chiefs Score Differences:\n",
            "     AwayTeam  AwayScore  HomeTeam  HomeScore  ScoreDifference\n",
            "11      49ers       27.0    Chiefs       17.0            -10.0\n",
            "22     Chiefs       30.0   Bengals       12.0             18.0\n",
            "36     Chiefs       13.0  Seahawks       26.0            -13.0\n",
            "60     Titans        6.0    Chiefs       30.0             24.0\n",
            "65     Chiefs       42.0  Patriots       27.0             15.0\n",
            "...       ...        ...       ...        ...              ...\n",
            "2816   Chiefs       29.0  Steelers       10.0             19.0\n",
            "2843   Chiefs        0.0   Broncos       38.0            -38.0\n",
            "2854   Texans       14.0    Chiefs       23.0              9.0\n",
            "2859    Bills       29.0    Chiefs       32.0              3.0\n",
            "2860   Chiefs        0.0    Eagles        0.0              0.0\n",
            "\n",
            "[186 rows x 5 columns]\n",
            "\n",
            "Average Chiefs Score Difference: 5.81\n",
            "Standard Deviation of Chiefs Score Difference: 11.41\n",
            "\n",
            "Eagles Score Differences:\n",
            "        AwayTeam  AwayScore  HomeTeam  HomeScore  ScoreDifference\n",
            "8         Eagles        9.0   Packers       24.0            -15.0\n",
            "18         Bills       16.0    Eagles       20.0              4.0\n",
            "33      Dolphins       31.0    Eagles       38.0              7.0\n",
            "49        Eagles       10.0      Jets       16.0             -6.0\n",
            "73        Eagles       30.0  Redskins       17.0             13.0\n",
            "...          ...        ...       ...        ...              ...\n",
            "2839      Giants       13.0    Eagles       20.0              7.0\n",
            "2851     Packers       10.0    Eagles       22.0             12.0\n",
            "2856        Rams       22.0    Eagles       28.0              6.0\n",
            "2858  Commanders       23.0    Eagles       55.0             32.0\n",
            "2860      Chiefs        0.0    Eagles        0.0              0.0\n",
            "\n",
            "[179 rows x 5 columns]\n",
            "\n",
            "Average Eagles Score Difference: 2.30\n",
            "Standard Deviation of Eagles Score Difference: 14.28\n"
          ]
        }
      ]
    },
    {
      "cell_type": "code",
      "source": [
        "\n",
        "# Load the dataset\n",
        "df = pd.read_csv('2017-2024_scores.csv')\n",
        "\n",
        "# Create a copy to avoid modifying the original DataFrame\n",
        "chiefs_df = df.copy()\n",
        "eagles_df = df.copy()\n",
        "\n",
        "# Filter for games where Chiefs played\n",
        "chiefs_df = chiefs_df[(chiefs_df[\"AwayTeam\"] == \"Chiefs\") | (chiefs_df[\"HomeTeam\"] == \"Chiefs\")]\n",
        "\n",
        "# Calculate score difference for Chiefs games\n",
        "chiefs_df[\"ScoreDifference\"] = np.where(\n",
        "    chiefs_df[\"AwayTeam\"] == \"Chiefs\",\n",
        "    chiefs_df[\"AwayScore\"] - chiefs_df[\"HomeScore\"],\n",
        "    chiefs_df[\"HomeScore\"] - chiefs_df[\"AwayScore\"],\n",
        ")\n",
        "\n",
        "# Filter for games where Eagles played\n",
        "eagles_df = eagles_df[(eagles_df[\"AwayTeam\"] == \"Eagles\") | (eagles_df[\"HomeTeam\"] == \"Eagles\")]\n",
        "\n",
        "# Calculate score difference for Eagles games\n",
        "eagles_df[\"ScoreDifference\"] = np.where(\n",
        "    eagles_df[\"AwayTeam\"] == \"Eagles\",\n",
        "    eagles_df[\"AwayScore\"] - eagles_df[\"HomeScore\"],\n",
        "    eagles_df[\"HomeScore\"] - eagles_df[\"AwayScore\"],\n",
        ")\n",
        "\n",
        "# Create histograms of score differences\n",
        "plt.figure(figsize=(12, 6))\n",
        "\n",
        "plt.subplot(1, 2, 1)  # 1 row, 2 columns, first plot\n",
        "plt.hist(chiefs_df[\"ScoreDifference\"], bins=10, color='red', edgecolor='black')\n",
        "plt.title(\"Chiefs Score Differences\")\n",
        "plt.xlabel(\"Score Difference\")\n",
        "plt.ylabel(\"Frequency\")\n",
        "\n",
        "plt.subplot(1, 2, 2)  # 1 row, 2 columns, second plot\n",
        "plt.hist(eagles_df[\"ScoreDifference\"], bins=10, color='green', edgecolor='black')\n",
        "plt.title(\"Eagles Score Differences\")\n",
        "plt.xlabel(\"Score Difference\")\n",
        "plt.ylabel(\"Frequency\")\n",
        "\n",
        "plt.tight_layout()  # Adjust spacing between subplots\n",
        "plt.show()"
      ],
      "metadata": {
        "colab": {
          "base_uri": "https://localhost:8080/",
          "height": 569
        },
        "id": "EubpCugRdLKS",
        "outputId": "9bd1083f-2680-490a-c31a-ba5e75abb58d"
      },
      "execution_count": 72,
      "outputs": [
        {
          "output_type": "display_data",
          "data": {
            "text/plain": [
              "<Figure size 1200x600 with 2 Axes>"
            ],
            "image/png": "[encoded data removed]"
          },
          "metadata": {}
        }
      ]
    },
    {
      "cell_type": "markdown",
      "source": [
        "# Conclusiones\n",
        "La verdad lo dejaré por la paz. No tengo mucho tiempo para esto. Me terminé tardando casi 2 horas y media, y entonces basaré mi predicción en diferencias regulares (las finales de los superbowl han sido caóticas los últimos años, desde 13-3 hasta 41-38 y cosas así)\n",
        "\n",
        "Además, Chiefs tiene 4 SBs mientras que Eagles tiene 5. Por tanto, me iré por los Chiefs :)\n",
        "\n",
        "- Examinando las diferencias de scores de los ultimos superbowls, por lo general son igual o menores a 10 puntos. Solo hubo uno de 22 puntos, pero meh.\n",
        "\n",
        "- Lo agarraré de entre 10 y 40, para no irme por valores menos probables.\n",
        "\n",
        "- Wow, vaya que las diferencias de 3 puntos son super comunes. Me iré por esa diferencia\n",
        "- Si bien un puntaje de 31 es el que más ocurre en playoffs, el 30 y el 32 para nada, en cambio los rangos entre 20 y 25 están más solidos. ocurren más veces sumados. Besides, las diferencias entre el 31 y alguno del rango 20-25 es de 3-5 puntos en general, entonces tmp es tan descabellado irse por ese rango\n",
        "- considerando esa diferencia, y algo que me dice que me vaya por 25-22:\n",
        "\n",
        "Mi predicción es que el marcador será:\n",
        "\n",
        "**Chiefs 25 - 22 Eagles**\n"
      ],
      "metadata": {
        "id": "o4kA2jKWecAO"
      }
    }
  ]
}